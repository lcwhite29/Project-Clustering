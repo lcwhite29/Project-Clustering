{
 "cells": [
  {
   "cell_type": "markdown",
   "id": "6f50f139",
   "metadata": {},
   "source": [
    "# IPL Clustering"
   ]
  },
  {
   "cell_type": "markdown",
   "id": "d40c6d87",
   "metadata": {},
   "source": [
    "In this project I try to cluster players in the IPL 2023 on there performace with bat and ball. The data used to cluster the players is from kaggle and provides a number of statistics from each match."
   ]
  },
  {
   "cell_type": "code",
   "execution_count": 1,
   "id": "c30293b1",
   "metadata": {},
   "outputs": [],
   "source": [
    "#Importing the main libraries\n",
    "import pandas as pd\n",
    "import numpy as np\n",
    "import matplotlib.pyplot as plt\n",
    "import seaborn as sns\n",
    "%matplotlib inline"
   ]
  },
  {
   "cell_type": "code",
   "execution_count": 2,
   "id": "02268288",
   "metadata": {},
   "outputs": [],
   "source": [
    "#The batting data set\n",
    "df_bat = pd.read_csv('archive/IPL2023_Batsman.csv',encoding='ISO-8859-1')"
   ]
  },
  {
   "cell_type": "markdown",
   "id": "b0cae636",
   "metadata": {},
   "source": [
    "First I want to clean the batting dataset and remove columns which I don't need (not relevant)."
   ]
  },
  {
   "cell_type": "code",
   "execution_count": 3,
   "id": "ffe9fa00",
   "metadata": {
    "scrolled": true
   },
   "outputs": [
    {
     "data": {
      "text/html": [
       "<div>\n",
       "<style scoped>\n",
       "    .dataframe tbody tr th:only-of-type {\n",
       "        vertical-align: middle;\n",
       "    }\n",
       "\n",
       "    .dataframe tbody tr th {\n",
       "        vertical-align: top;\n",
       "    }\n",
       "\n",
       "    .dataframe thead th {\n",
       "        text-align: right;\n",
       "    }\n",
       "</style>\n",
       "<table border=\"1\" class=\"dataframe\">\n",
       "  <thead>\n",
       "    <tr style=\"text-align: right;\">\n",
       "      <th></th>\n",
       "      <th>match_no</th>\n",
       "      <th>Batsman</th>\n",
       "      <th>team</th>\n",
       "      <th>Run</th>\n",
       "      <th>Ball</th>\n",
       "      <th>4s</th>\n",
       "      <th>6s</th>\n",
       "      <th>out_by</th>\n",
       "    </tr>\n",
       "  </thead>\n",
       "  <tbody>\n",
       "    <tr>\n",
       "      <th>0</th>\n",
       "      <td>1</td>\n",
       "      <td>Devon Conway</td>\n",
       "      <td>Chennai Super Kings</td>\n",
       "      <td>1</td>\n",
       "      <td>6</td>\n",
       "      <td>0</td>\n",
       "      <td>0</td>\n",
       "      <td>Mohammed Shami</td>\n",
       "    </tr>\n",
       "    <tr>\n",
       "      <th>1</th>\n",
       "      <td>1</td>\n",
       "      <td>Ruturaj Gaikwad</td>\n",
       "      <td>Chennai Super Kings</td>\n",
       "      <td>92</td>\n",
       "      <td>50</td>\n",
       "      <td>4</td>\n",
       "      <td>9</td>\n",
       "      <td>Alzarri Joseph</td>\n",
       "    </tr>\n",
       "    <tr>\n",
       "      <th>2</th>\n",
       "      <td>1</td>\n",
       "      <td>Moeen Ali</td>\n",
       "      <td>Chennai Super Kings</td>\n",
       "      <td>23</td>\n",
       "      <td>17</td>\n",
       "      <td>4</td>\n",
       "      <td>1</td>\n",
       "      <td>Rashid Khan</td>\n",
       "    </tr>\n",
       "    <tr>\n",
       "      <th>3</th>\n",
       "      <td>1</td>\n",
       "      <td>Ben Stokes</td>\n",
       "      <td>Chennai Super Kings</td>\n",
       "      <td>7</td>\n",
       "      <td>6</td>\n",
       "      <td>1</td>\n",
       "      <td>0</td>\n",
       "      <td>Rashid Khan</td>\n",
       "    </tr>\n",
       "    <tr>\n",
       "      <th>4</th>\n",
       "      <td>1</td>\n",
       "      <td>Ambati Rayudu</td>\n",
       "      <td>Chennai Super Kings</td>\n",
       "      <td>12</td>\n",
       "      <td>12</td>\n",
       "      <td>0</td>\n",
       "      <td>1</td>\n",
       "      <td>Joshua Little</td>\n",
       "    </tr>\n",
       "  </tbody>\n",
       "</table>\n",
       "</div>"
      ],
      "text/plain": [
       "   match_no          Batsman                 team  Run  Ball  4s  6s  \\\n",
       "0         1     Devon Conway  Chennai Super Kings    1     6   0   0   \n",
       "1         1  Ruturaj Gaikwad  Chennai Super Kings   92    50   4   9   \n",
       "2         1        Moeen Ali  Chennai Super Kings   23    17   4   1   \n",
       "3         1       Ben Stokes  Chennai Super Kings    7     6   1   0   \n",
       "4         1    Ambati Rayudu  Chennai Super Kings   12    12   0   1   \n",
       "\n",
       "           out_by  \n",
       "0  Mohammed Shami  \n",
       "1  Alzarri Joseph  \n",
       "2     Rashid Khan  \n",
       "3     Rashid Khan  \n",
       "4   Joshua Little  "
      ]
     },
     "execution_count": 3,
     "metadata": {},
     "output_type": "execute_result"
    }
   ],
   "source": [
    "#Head of the batting data set\n",
    "df_bat.head()"
   ]
  },
  {
   "cell_type": "code",
   "execution_count": 4,
   "id": "00cb82da",
   "metadata": {},
   "outputs": [
    {
     "name": "stdout",
     "output_type": "stream",
     "text": [
      "<class 'pandas.core.frame.DataFrame'>\n",
      "RangeIndex: 1114 entries, 0 to 1113\n",
      "Data columns (total 8 columns):\n",
      " #   Column    Non-Null Count  Dtype \n",
      "---  ------    --------------  ----- \n",
      " 0   match_no  1114 non-null   int64 \n",
      " 1   Batsman   1114 non-null   object\n",
      " 2   team      1114 non-null   object\n",
      " 3   Run       1114 non-null   int64 \n",
      " 4   Ball      1114 non-null   int64 \n",
      " 5   4s        1114 non-null   int64 \n",
      " 6   6s        1114 non-null   int64 \n",
      " 7   out_by    1114 non-null   object\n",
      "dtypes: int64(5), object(3)\n",
      "memory usage: 69.8+ KB\n"
     ]
    }
   ],
   "source": [
    "#Some info of the dataset\n",
    "df_bat.info()"
   ]
  },
  {
   "cell_type": "code",
   "execution_count": 5,
   "id": "b8c94aac",
   "metadata": {},
   "outputs": [
    {
     "data": {
      "text/html": [
       "<div>\n",
       "<style scoped>\n",
       "    .dataframe tbody tr th:only-of-type {\n",
       "        vertical-align: middle;\n",
       "    }\n",
       "\n",
       "    .dataframe tbody tr th {\n",
       "        vertical-align: top;\n",
       "    }\n",
       "\n",
       "    .dataframe thead th {\n",
       "        text-align: right;\n",
       "    }\n",
       "</style>\n",
       "<table border=\"1\" class=\"dataframe\">\n",
       "  <thead>\n",
       "    <tr style=\"text-align: right;\">\n",
       "      <th></th>\n",
       "      <th>match_no</th>\n",
       "      <th>Run</th>\n",
       "      <th>Ball</th>\n",
       "      <th>4s</th>\n",
       "      <th>6s</th>\n",
       "    </tr>\n",
       "  </thead>\n",
       "  <tbody>\n",
       "    <tr>\n",
       "      <th>count</th>\n",
       "      <td>1114.000000</td>\n",
       "      <td>1114.000000</td>\n",
       "      <td>1114.000000</td>\n",
       "      <td>1114.000000</td>\n",
       "      <td>1114.000000</td>\n",
       "    </tr>\n",
       "    <tr>\n",
       "      <th>mean</th>\n",
       "      <td>34.609515</td>\n",
       "      <td>20.733393</td>\n",
       "      <td>14.648115</td>\n",
       "      <td>1.847397</td>\n",
       "      <td>0.951526</td>\n",
       "    </tr>\n",
       "    <tr>\n",
       "      <th>std</th>\n",
       "      <td>20.049515</td>\n",
       "      <td>22.933746</td>\n",
       "      <td>13.582402</td>\n",
       "      <td>2.496009</td>\n",
       "      <td>1.574557</td>\n",
       "    </tr>\n",
       "    <tr>\n",
       "      <th>min</th>\n",
       "      <td>1.000000</td>\n",
       "      <td>0.000000</td>\n",
       "      <td>0.000000</td>\n",
       "      <td>0.000000</td>\n",
       "      <td>0.000000</td>\n",
       "    </tr>\n",
       "    <tr>\n",
       "      <th>25%</th>\n",
       "      <td>17.250000</td>\n",
       "      <td>3.000000</td>\n",
       "      <td>4.000000</td>\n",
       "      <td>0.000000</td>\n",
       "      <td>0.000000</td>\n",
       "    </tr>\n",
       "    <tr>\n",
       "      <th>50%</th>\n",
       "      <td>34.000000</td>\n",
       "      <td>12.000000</td>\n",
       "      <td>10.000000</td>\n",
       "      <td>1.000000</td>\n",
       "      <td>0.000000</td>\n",
       "    </tr>\n",
       "    <tr>\n",
       "      <th>75%</th>\n",
       "      <td>52.000000</td>\n",
       "      <td>30.000000</td>\n",
       "      <td>21.000000</td>\n",
       "      <td>3.000000</td>\n",
       "      <td>1.000000</td>\n",
       "    </tr>\n",
       "    <tr>\n",
       "      <th>max</th>\n",
       "      <td>70.000000</td>\n",
       "      <td>124.000000</td>\n",
       "      <td>66.000000</td>\n",
       "      <td>16.000000</td>\n",
       "      <td>10.000000</td>\n",
       "    </tr>\n",
       "  </tbody>\n",
       "</table>\n",
       "</div>"
      ],
      "text/plain": [
       "          match_no          Run         Ball           4s           6s\n",
       "count  1114.000000  1114.000000  1114.000000  1114.000000  1114.000000\n",
       "mean     34.609515    20.733393    14.648115     1.847397     0.951526\n",
       "std      20.049515    22.933746    13.582402     2.496009     1.574557\n",
       "min       1.000000     0.000000     0.000000     0.000000     0.000000\n",
       "25%      17.250000     3.000000     4.000000     0.000000     0.000000\n",
       "50%      34.000000    12.000000    10.000000     1.000000     0.000000\n",
       "75%      52.000000    30.000000    21.000000     3.000000     1.000000\n",
       "max      70.000000   124.000000    66.000000    16.000000    10.000000"
      ]
     },
     "execution_count": 5,
     "metadata": {},
     "output_type": "execute_result"
    }
   ],
   "source": [
    "#Some statistics from the data set\n",
    "df_bat.describe()"
   ]
  },
  {
   "cell_type": "markdown",
   "id": "59c1b74d",
   "metadata": {},
   "source": [
    "Note here there are no missing values to think about."
   ]
  },
  {
   "cell_type": "code",
   "execution_count": 6,
   "id": "f432e684",
   "metadata": {},
   "outputs": [],
   "source": [
    "#Dropping the out_by, match_no and team columns\n",
    "df_bat.drop(['out_by','match_no','team'],axis=1,inplace=True)\n",
    "#Renaming the Run and Ball columns to Runs and Balls Faced\n",
    "df_bat.rename(columns = {'Run':'Runs','Ball':'Balls Faced'}, inplace = True)"
   ]
  },
  {
   "cell_type": "code",
   "execution_count": 7,
   "id": "08a171c5",
   "metadata": {},
   "outputs": [
    {
     "data": {
      "text/html": [
       "<div>\n",
       "<style scoped>\n",
       "    .dataframe tbody tr th:only-of-type {\n",
       "        vertical-align: middle;\n",
       "    }\n",
       "\n",
       "    .dataframe tbody tr th {\n",
       "        vertical-align: top;\n",
       "    }\n",
       "\n",
       "    .dataframe thead th {\n",
       "        text-align: right;\n",
       "    }\n",
       "</style>\n",
       "<table border=\"1\" class=\"dataframe\">\n",
       "  <thead>\n",
       "    <tr style=\"text-align: right;\">\n",
       "      <th></th>\n",
       "      <th>Batsman</th>\n",
       "      <th>Runs</th>\n",
       "      <th>Balls Faced</th>\n",
       "      <th>4s</th>\n",
       "      <th>6s</th>\n",
       "    </tr>\n",
       "  </thead>\n",
       "  <tbody>\n",
       "    <tr>\n",
       "      <th>0</th>\n",
       "      <td>Devon Conway</td>\n",
       "      <td>1</td>\n",
       "      <td>6</td>\n",
       "      <td>0</td>\n",
       "      <td>0</td>\n",
       "    </tr>\n",
       "    <tr>\n",
       "      <th>1</th>\n",
       "      <td>Ruturaj Gaikwad</td>\n",
       "      <td>92</td>\n",
       "      <td>50</td>\n",
       "      <td>4</td>\n",
       "      <td>9</td>\n",
       "    </tr>\n",
       "    <tr>\n",
       "      <th>2</th>\n",
       "      <td>Moeen Ali</td>\n",
       "      <td>23</td>\n",
       "      <td>17</td>\n",
       "      <td>4</td>\n",
       "      <td>1</td>\n",
       "    </tr>\n",
       "    <tr>\n",
       "      <th>3</th>\n",
       "      <td>Ben Stokes</td>\n",
       "      <td>7</td>\n",
       "      <td>6</td>\n",
       "      <td>1</td>\n",
       "      <td>0</td>\n",
       "    </tr>\n",
       "    <tr>\n",
       "      <th>4</th>\n",
       "      <td>Ambati Rayudu</td>\n",
       "      <td>12</td>\n",
       "      <td>12</td>\n",
       "      <td>0</td>\n",
       "      <td>1</td>\n",
       "    </tr>\n",
       "  </tbody>\n",
       "</table>\n",
       "</div>"
      ],
      "text/plain": [
       "           Batsman  Runs  Balls Faced  4s  6s\n",
       "0     Devon Conway     1            6   0   0\n",
       "1  Ruturaj Gaikwad    92           50   4   9\n",
       "2        Moeen Ali    23           17   4   1\n",
       "3       Ben Stokes     7            6   1   0\n",
       "4    Ambati Rayudu    12           12   0   1"
      ]
     },
     "execution_count": 7,
     "metadata": {},
     "output_type": "execute_result"
    }
   ],
   "source": [
    "#Resulting data frame\n",
    "df_bat.head()"
   ]
  },
  {
   "cell_type": "markdown",
   "id": "7aca8ca7",
   "metadata": {},
   "source": [
    "Now we groupby the batsman and take the sum to see there combine stats over all games."
   ]
  },
  {
   "cell_type": "code",
   "execution_count": 8,
   "id": "8db622af",
   "metadata": {},
   "outputs": [],
   "source": [
    "#Making a data frame which groups by the batsman and adds the rows together\n",
    "df_bat_gbb = df_bat.groupby(by='Batsman').sum()"
   ]
  },
  {
   "cell_type": "code",
   "execution_count": 9,
   "id": "87aebe93",
   "metadata": {},
   "outputs": [
    {
     "data": {
      "text/html": [
       "<div>\n",
       "<style scoped>\n",
       "    .dataframe tbody tr th:only-of-type {\n",
       "        vertical-align: middle;\n",
       "    }\n",
       "\n",
       "    .dataframe tbody tr th {\n",
       "        vertical-align: top;\n",
       "    }\n",
       "\n",
       "    .dataframe thead th {\n",
       "        text-align: right;\n",
       "    }\n",
       "</style>\n",
       "<table border=\"1\" class=\"dataframe\">\n",
       "  <thead>\n",
       "    <tr style=\"text-align: right;\">\n",
       "      <th></th>\n",
       "      <th>Runs</th>\n",
       "      <th>Balls Faced</th>\n",
       "      <th>4s</th>\n",
       "      <th>6s</th>\n",
       "    </tr>\n",
       "    <tr>\n",
       "      <th>Batsman</th>\n",
       "      <th></th>\n",
       "      <th></th>\n",
       "      <th></th>\n",
       "      <th></th>\n",
       "    </tr>\n",
       "  </thead>\n",
       "  <tbody>\n",
       "    <tr>\n",
       "      <th>Abdul Basith</th>\n",
       "      <td>1</td>\n",
       "      <td>1</td>\n",
       "      <td>0</td>\n",
       "      <td>0</td>\n",
       "    </tr>\n",
       "    <tr>\n",
       "      <th>Abdul Samad</th>\n",
       "      <td>169</td>\n",
       "      <td>128</td>\n",
       "      <td>10</td>\n",
       "      <td>11</td>\n",
       "    </tr>\n",
       "    <tr>\n",
       "      <th>Abhinav Manohar</th>\n",
       "      <td>114</td>\n",
       "      <td>83</td>\n",
       "      <td>6</td>\n",
       "      <td>7</td>\n",
       "    </tr>\n",
       "    <tr>\n",
       "      <th>Abhishek Sharma</th>\n",
       "      <td>225</td>\n",
       "      <td>157</td>\n",
       "      <td>28</td>\n",
       "      <td>6</td>\n",
       "    </tr>\n",
       "    <tr>\n",
       "      <th>Abishek Porel</th>\n",
       "      <td>33</td>\n",
       "      <td>31</td>\n",
       "      <td>1</td>\n",
       "      <td>0</td>\n",
       "    </tr>\n",
       "  </tbody>\n",
       "</table>\n",
       "</div>"
      ],
      "text/plain": [
       "                 Runs  Balls Faced  4s  6s\n",
       "Batsman                                   \n",
       "Abdul Basith        1            1   0   0\n",
       "Abdul Samad       169          128  10  11\n",
       "Abhinav Manohar   114           83   6   7\n",
       "Abhishek Sharma   225          157  28   6\n",
       "Abishek Porel      33           31   1   0"
      ]
     },
     "execution_count": 9,
     "metadata": {},
     "output_type": "execute_result"
    }
   ],
   "source": [
    "#Head of the new data frame\n",
    "df_bat_gbb.head()"
   ]
  },
  {
   "cell_type": "markdown",
   "id": "72fe3eb2",
   "metadata": {},
   "source": [
    "Next I look at the bowling dataset and clean that dataset."
   ]
  },
  {
   "cell_type": "code",
   "execution_count": 10,
   "id": "3d94fae7",
   "metadata": {},
   "outputs": [],
   "source": [
    "#The bowling data set \n",
    "df_bow = pd.read_csv('archive/IPL2023_Bowler.csv',encoding='ISO-8859-1')"
   ]
  },
  {
   "cell_type": "code",
   "execution_count": 11,
   "id": "9a21b3d0",
   "metadata": {},
   "outputs": [
    {
     "data": {
      "text/html": [
       "<div>\n",
       "<style scoped>\n",
       "    .dataframe tbody tr th:only-of-type {\n",
       "        vertical-align: middle;\n",
       "    }\n",
       "\n",
       "    .dataframe tbody tr th {\n",
       "        vertical-align: top;\n",
       "    }\n",
       "\n",
       "    .dataframe thead th {\n",
       "        text-align: right;\n",
       "    }\n",
       "</style>\n",
       "<table border=\"1\" class=\"dataframe\">\n",
       "  <thead>\n",
       "    <tr style=\"text-align: right;\">\n",
       "      <th></th>\n",
       "      <th>match_no</th>\n",
       "      <th>Bowler</th>\n",
       "      <th>team</th>\n",
       "      <th>over</th>\n",
       "      <th>run</th>\n",
       "      <th>wicket</th>\n",
       "      <th>No_ball</th>\n",
       "      <th>ECO</th>\n",
       "    </tr>\n",
       "  </thead>\n",
       "  <tbody>\n",
       "    <tr>\n",
       "      <th>0</th>\n",
       "      <td>1</td>\n",
       "      <td>Mohammed Shami</td>\n",
       "      <td>Gujarat Titans</td>\n",
       "      <td>4.0</td>\n",
       "      <td>29</td>\n",
       "      <td>2</td>\n",
       "      <td>1</td>\n",
       "      <td>7.3</td>\n",
       "    </tr>\n",
       "    <tr>\n",
       "      <th>1</th>\n",
       "      <td>1</td>\n",
       "      <td>Hardik Pandya</td>\n",
       "      <td>Gujarat Titans</td>\n",
       "      <td>3.0</td>\n",
       "      <td>28</td>\n",
       "      <td>0</td>\n",
       "      <td>0</td>\n",
       "      <td>9.3</td>\n",
       "    </tr>\n",
       "    <tr>\n",
       "      <th>2</th>\n",
       "      <td>1</td>\n",
       "      <td>Joshua Little</td>\n",
       "      <td>Gujarat Titans</td>\n",
       "      <td>4.0</td>\n",
       "      <td>41</td>\n",
       "      <td>1</td>\n",
       "      <td>0</td>\n",
       "      <td>10.3</td>\n",
       "    </tr>\n",
       "    <tr>\n",
       "      <th>3</th>\n",
       "      <td>1</td>\n",
       "      <td>Rashid Khan</td>\n",
       "      <td>Gujarat Titans</td>\n",
       "      <td>4.0</td>\n",
       "      <td>26</td>\n",
       "      <td>2</td>\n",
       "      <td>0</td>\n",
       "      <td>6.5</td>\n",
       "    </tr>\n",
       "    <tr>\n",
       "      <th>4</th>\n",
       "      <td>1</td>\n",
       "      <td>Alzarri Joseph</td>\n",
       "      <td>Gujarat Titans</td>\n",
       "      <td>4.0</td>\n",
       "      <td>33</td>\n",
       "      <td>2</td>\n",
       "      <td>0</td>\n",
       "      <td>8.3</td>\n",
       "    </tr>\n",
       "  </tbody>\n",
       "</table>\n",
       "</div>"
      ],
      "text/plain": [
       "   match_no          Bowler            team  over  run  wicket  No_ball   ECO\n",
       "0         1  Mohammed Shami  Gujarat Titans   4.0   29       2        1   7.3\n",
       "1         1   Hardik Pandya  Gujarat Titans   3.0   28       0        0   9.3\n",
       "2         1   Joshua Little  Gujarat Titans   4.0   41       1        0  10.3\n",
       "3         1     Rashid Khan  Gujarat Titans   4.0   26       2        0   6.5\n",
       "4         1  Alzarri Joseph  Gujarat Titans   4.0   33       2        0   8.3"
      ]
     },
     "execution_count": 11,
     "metadata": {},
     "output_type": "execute_result"
    }
   ],
   "source": [
    "#Head of the bowling data set \n",
    "df_bow.head()"
   ]
  },
  {
   "cell_type": "code",
   "execution_count": 12,
   "id": "4fac23ff",
   "metadata": {},
   "outputs": [],
   "source": [
    "#Droping the ECO, No_ball, match_no and team columns\n",
    "df_bow.drop(['ECO','No_ball','match_no','team'],axis=1,inplace=True)"
   ]
  },
  {
   "cell_type": "code",
   "execution_count": 13,
   "id": "b78a2ef0",
   "metadata": {},
   "outputs": [
    {
     "data": {
      "text/html": [
       "<div>\n",
       "<style scoped>\n",
       "    .dataframe tbody tr th:only-of-type {\n",
       "        vertical-align: middle;\n",
       "    }\n",
       "\n",
       "    .dataframe tbody tr th {\n",
       "        vertical-align: top;\n",
       "    }\n",
       "\n",
       "    .dataframe thead th {\n",
       "        text-align: right;\n",
       "    }\n",
       "</style>\n",
       "<table border=\"1\" class=\"dataframe\">\n",
       "  <thead>\n",
       "    <tr style=\"text-align: right;\">\n",
       "      <th></th>\n",
       "      <th>Bowler</th>\n",
       "      <th>over</th>\n",
       "      <th>run</th>\n",
       "      <th>wicket</th>\n",
       "    </tr>\n",
       "  </thead>\n",
       "  <tbody>\n",
       "    <tr>\n",
       "      <th>0</th>\n",
       "      <td>Mohammed Shami</td>\n",
       "      <td>4.0</td>\n",
       "      <td>29</td>\n",
       "      <td>2</td>\n",
       "    </tr>\n",
       "    <tr>\n",
       "      <th>1</th>\n",
       "      <td>Hardik Pandya</td>\n",
       "      <td>3.0</td>\n",
       "      <td>28</td>\n",
       "      <td>0</td>\n",
       "    </tr>\n",
       "    <tr>\n",
       "      <th>2</th>\n",
       "      <td>Joshua Little</td>\n",
       "      <td>4.0</td>\n",
       "      <td>41</td>\n",
       "      <td>1</td>\n",
       "    </tr>\n",
       "    <tr>\n",
       "      <th>3</th>\n",
       "      <td>Rashid Khan</td>\n",
       "      <td>4.0</td>\n",
       "      <td>26</td>\n",
       "      <td>2</td>\n",
       "    </tr>\n",
       "    <tr>\n",
       "      <th>4</th>\n",
       "      <td>Alzarri Joseph</td>\n",
       "      <td>4.0</td>\n",
       "      <td>33</td>\n",
       "      <td>2</td>\n",
       "    </tr>\n",
       "  </tbody>\n",
       "</table>\n",
       "</div>"
      ],
      "text/plain": [
       "           Bowler  over  run  wicket\n",
       "0  Mohammed Shami   4.0   29       2\n",
       "1   Hardik Pandya   3.0   28       0\n",
       "2   Joshua Little   4.0   41       1\n",
       "3     Rashid Khan   4.0   26       2\n",
       "4  Alzarri Joseph   4.0   33       2"
      ]
     },
     "execution_count": 13,
     "metadata": {},
     "output_type": "execute_result"
    }
   ],
   "source": [
    "#Head of the bowling data set\n",
    "df_bow.head()"
   ]
  },
  {
   "cell_type": "markdown",
   "id": "594763b0",
   "metadata": {},
   "source": [
    "Now python might get slightly confused when summing the over column as it should only end in .0,.1,.2,.3,.4 or .5. So instead I will write a function to count the number of ball bowled instead. Then I will use this to make a new column balls bowled."
   ]
  },
  {
   "cell_type": "code",
   "execution_count": 14,
   "id": "bf9bb00d",
   "metadata": {},
   "outputs": [],
   "source": [
    "#A function to take overs to balls bowled\n",
    "def balls_bowled(overs):\n",
    "    balls = 0\n",
    "    while overs >= 1:\n",
    "        balls += 6\n",
    "        overs -= 1\n",
    "        if overs < 1:\n",
    "            break\n",
    "    balls += 10*overs\n",
    "    return int(balls) "
   ]
  },
  {
   "cell_type": "code",
   "execution_count": 15,
   "id": "b8e074ef",
   "metadata": {},
   "outputs": [],
   "source": [
    "#Making a new column for balls bowled\n",
    "df_bow['Balls Bowled'] = df_bow['over'].apply(lambda x: balls_bowled(x))"
   ]
  },
  {
   "cell_type": "code",
   "execution_count": 16,
   "id": "5a8e8888",
   "metadata": {},
   "outputs": [],
   "source": [
    "#Drop the over column\n",
    "df_bow.drop('over',axis=1,inplace=True)\n",
    "#Rename the run and wicket columns to Runs Conceded and Wickets\n",
    "df_bow.rename(columns={'run':'Runs Conceded','wicket':'Wickets'},inplace=True)"
   ]
  },
  {
   "cell_type": "code",
   "execution_count": 17,
   "id": "cc36c36a",
   "metadata": {},
   "outputs": [
    {
     "data": {
      "text/html": [
       "<div>\n",
       "<style scoped>\n",
       "    .dataframe tbody tr th:only-of-type {\n",
       "        vertical-align: middle;\n",
       "    }\n",
       "\n",
       "    .dataframe tbody tr th {\n",
       "        vertical-align: top;\n",
       "    }\n",
       "\n",
       "    .dataframe thead th {\n",
       "        text-align: right;\n",
       "    }\n",
       "</style>\n",
       "<table border=\"1\" class=\"dataframe\">\n",
       "  <thead>\n",
       "    <tr style=\"text-align: right;\">\n",
       "      <th></th>\n",
       "      <th>Bowler</th>\n",
       "      <th>Runs Conceded</th>\n",
       "      <th>Wickets</th>\n",
       "      <th>Balls Bowled</th>\n",
       "    </tr>\n",
       "  </thead>\n",
       "  <tbody>\n",
       "    <tr>\n",
       "      <th>0</th>\n",
       "      <td>Mohammed Shami</td>\n",
       "      <td>29</td>\n",
       "      <td>2</td>\n",
       "      <td>24</td>\n",
       "    </tr>\n",
       "    <tr>\n",
       "      <th>1</th>\n",
       "      <td>Hardik Pandya</td>\n",
       "      <td>28</td>\n",
       "      <td>0</td>\n",
       "      <td>18</td>\n",
       "    </tr>\n",
       "    <tr>\n",
       "      <th>2</th>\n",
       "      <td>Joshua Little</td>\n",
       "      <td>41</td>\n",
       "      <td>1</td>\n",
       "      <td>24</td>\n",
       "    </tr>\n",
       "    <tr>\n",
       "      <th>3</th>\n",
       "      <td>Rashid Khan</td>\n",
       "      <td>26</td>\n",
       "      <td>2</td>\n",
       "      <td>24</td>\n",
       "    </tr>\n",
       "    <tr>\n",
       "      <th>4</th>\n",
       "      <td>Alzarri Joseph</td>\n",
       "      <td>33</td>\n",
       "      <td>2</td>\n",
       "      <td>24</td>\n",
       "    </tr>\n",
       "  </tbody>\n",
       "</table>\n",
       "</div>"
      ],
      "text/plain": [
       "           Bowler  Runs Conceded  Wickets  Balls Bowled\n",
       "0  Mohammed Shami             29        2            24\n",
       "1   Hardik Pandya             28        0            18\n",
       "2   Joshua Little             41        1            24\n",
       "3     Rashid Khan             26        2            24\n",
       "4  Alzarri Joseph             33        2            24"
      ]
     },
     "execution_count": 17,
     "metadata": {},
     "output_type": "execute_result"
    }
   ],
   "source": [
    "#Head of the new bowler data frame\n",
    "df_bow.head()"
   ]
  },
  {
   "cell_type": "markdown",
   "id": "6bc9c12d",
   "metadata": {},
   "source": [
    "Now we groupby the bowler and take the sum to see there combine stats over all games."
   ]
  },
  {
   "cell_type": "code",
   "execution_count": 18,
   "id": "61cf8347",
   "metadata": {},
   "outputs": [],
   "source": [
    "#Grouping by bowler \n",
    "df_bow_gbb = df_bow.groupby(by='Bowler').sum()"
   ]
  },
  {
   "cell_type": "code",
   "execution_count": 19,
   "id": "3d1bb6d8",
   "metadata": {},
   "outputs": [
    {
     "data": {
      "text/html": [
       "<div>\n",
       "<style scoped>\n",
       "    .dataframe tbody tr th:only-of-type {\n",
       "        vertical-align: middle;\n",
       "    }\n",
       "\n",
       "    .dataframe tbody tr th {\n",
       "        vertical-align: top;\n",
       "    }\n",
       "\n",
       "    .dataframe thead th {\n",
       "        text-align: right;\n",
       "    }\n",
       "</style>\n",
       "<table border=\"1\" class=\"dataframe\">\n",
       "  <thead>\n",
       "    <tr style=\"text-align: right;\">\n",
       "      <th></th>\n",
       "      <th>Runs Conceded</th>\n",
       "      <th>Wickets</th>\n",
       "      <th>Balls Bowled</th>\n",
       "    </tr>\n",
       "    <tr>\n",
       "      <th>Bowler</th>\n",
       "      <th></th>\n",
       "      <th></th>\n",
       "      <th></th>\n",
       "    </tr>\n",
       "  </thead>\n",
       "  <tbody>\n",
       "    <tr>\n",
       "      <th>Abhishek Sharma</th>\n",
       "      <td>124</td>\n",
       "      <td>2</td>\n",
       "      <td>72</td>\n",
       "    </tr>\n",
       "    <tr>\n",
       "      <th>Adam Zampa</th>\n",
       "      <td>188</td>\n",
       "      <td>8</td>\n",
       "      <td>132</td>\n",
       "    </tr>\n",
       "    <tr>\n",
       "      <th>Adil Rashid</th>\n",
       "      <td>56</td>\n",
       "      <td>2</td>\n",
       "      <td>42</td>\n",
       "    </tr>\n",
       "    <tr>\n",
       "      <th>Aiden Markram</th>\n",
       "      <td>70</td>\n",
       "      <td>1</td>\n",
       "      <td>49</td>\n",
       "    </tr>\n",
       "    <tr>\n",
       "      <th>Akash Deep</th>\n",
       "      <td>59</td>\n",
       "      <td>1</td>\n",
       "      <td>30</td>\n",
       "    </tr>\n",
       "  </tbody>\n",
       "</table>\n",
       "</div>"
      ],
      "text/plain": [
       "                 Runs Conceded  Wickets  Balls Bowled\n",
       "Bowler                                               \n",
       "Abhishek Sharma            124        2            72\n",
       "Adam Zampa                 188        8           132\n",
       "Adil Rashid                 56        2            42\n",
       "Aiden Markram               70        1            49\n",
       "Akash Deep                  59        1            30"
      ]
     },
     "execution_count": 19,
     "metadata": {},
     "output_type": "execute_result"
    }
   ],
   "source": [
    "#Head of the bowler groupby dataframe\n",
    "df_bow_gbb.head()"
   ]
  },
  {
   "cell_type": "markdown",
   "id": "b4e75f68",
   "metadata": {},
   "source": [
    "## Inner join datasets"
   ]
  },
  {
   "cell_type": "markdown",
   "id": "a9900ede",
   "metadata": {},
   "source": [
    "First I start with an inner join on the datasets and make a new dataset from this inner join. This will allow me to look at only those players who have bowled and batted in the tournament. Some of which will be alrounders, therefore, I'll call the data frame df_allrounder."
   ]
  },
  {
   "cell_type": "code",
   "execution_count": 20,
   "id": "5657ea61",
   "metadata": {},
   "outputs": [],
   "source": [
    "#Inner join of the two groupby data frames\n",
    "df_allrounder = pd.concat([df_bat_gbb,df_bow_gbb],axis=1,join='inner')\n",
    "#Reseting the index\n",
    "df_allrounder.reset_index(inplace=True)"
   ]
  },
  {
   "cell_type": "code",
   "execution_count": 21,
   "id": "823d1de1",
   "metadata": {},
   "outputs": [],
   "source": [
    "#Change the index column to a Player column\n",
    "df_allrounder.rename(columns = {'index':'Player'}, inplace = True)"
   ]
  },
  {
   "cell_type": "code",
   "execution_count": 22,
   "id": "4027c166",
   "metadata": {},
   "outputs": [
    {
     "data": {
      "text/html": [
       "<div>\n",
       "<style scoped>\n",
       "    .dataframe tbody tr th:only-of-type {\n",
       "        vertical-align: middle;\n",
       "    }\n",
       "\n",
       "    .dataframe tbody tr th {\n",
       "        vertical-align: top;\n",
       "    }\n",
       "\n",
       "    .dataframe thead th {\n",
       "        text-align: right;\n",
       "    }\n",
       "</style>\n",
       "<table border=\"1\" class=\"dataframe\">\n",
       "  <thead>\n",
       "    <tr style=\"text-align: right;\">\n",
       "      <th></th>\n",
       "      <th>Player</th>\n",
       "      <th>Runs</th>\n",
       "      <th>Balls Faced</th>\n",
       "      <th>4s</th>\n",
       "      <th>6s</th>\n",
       "      <th>Runs Conceded</th>\n",
       "      <th>Wickets</th>\n",
       "      <th>Balls Bowled</th>\n",
       "    </tr>\n",
       "  </thead>\n",
       "  <tbody>\n",
       "    <tr>\n",
       "      <th>0</th>\n",
       "      <td>Abhishek Sharma</td>\n",
       "      <td>225</td>\n",
       "      <td>157</td>\n",
       "      <td>28</td>\n",
       "      <td>6</td>\n",
       "      <td>124</td>\n",
       "      <td>2</td>\n",
       "      <td>72</td>\n",
       "    </tr>\n",
       "    <tr>\n",
       "      <th>1</th>\n",
       "      <td>Adam Zampa</td>\n",
       "      <td>10</td>\n",
       "      <td>16</td>\n",
       "      <td>0</td>\n",
       "      <td>0</td>\n",
       "      <td>188</td>\n",
       "      <td>8</td>\n",
       "      <td>132</td>\n",
       "    </tr>\n",
       "    <tr>\n",
       "      <th>2</th>\n",
       "      <td>Adil Rashid</td>\n",
       "      <td>22</td>\n",
       "      <td>16</td>\n",
       "      <td>2</td>\n",
       "      <td>1</td>\n",
       "      <td>56</td>\n",
       "      <td>2</td>\n",
       "      <td>42</td>\n",
       "    </tr>\n",
       "    <tr>\n",
       "      <th>3</th>\n",
       "      <td>Aiden Markram</td>\n",
       "      <td>248</td>\n",
       "      <td>197</td>\n",
       "      <td>18</td>\n",
       "      <td>8</td>\n",
       "      <td>70</td>\n",
       "      <td>1</td>\n",
       "      <td>49</td>\n",
       "    </tr>\n",
       "    <tr>\n",
       "      <th>4</th>\n",
       "      <td>Akash Deep</td>\n",
       "      <td>17</td>\n",
       "      <td>8</td>\n",
       "      <td>2</td>\n",
       "      <td>1</td>\n",
       "      <td>59</td>\n",
       "      <td>1</td>\n",
       "      <td>30</td>\n",
       "    </tr>\n",
       "  </tbody>\n",
       "</table>\n",
       "</div>"
      ],
      "text/plain": [
       "            Player  Runs  Balls Faced  4s  6s  Runs Conceded  Wickets  \\\n",
       "0  Abhishek Sharma   225          157  28   6            124        2   \n",
       "1       Adam Zampa    10           16   0   0            188        8   \n",
       "2      Adil Rashid    22           16   2   1             56        2   \n",
       "3    Aiden Markram   248          197  18   8             70        1   \n",
       "4       Akash Deep    17            8   2   1             59        1   \n",
       "\n",
       "   Balls Bowled  \n",
       "0            72  \n",
       "1           132  \n",
       "2            42  \n",
       "3            49  \n",
       "4            30  "
      ]
     },
     "execution_count": 22,
     "metadata": {},
     "output_type": "execute_result"
    }
   ],
   "source": [
    "#Head of the allrounder dataframe\n",
    "df_allrounder.head()"
   ]
  },
  {
   "cell_type": "markdown",
   "id": "01d7c6b7",
   "metadata": {},
   "source": [
    "Here I just explore some of the interesting data."
   ]
  },
  {
   "cell_type": "code",
   "execution_count": 23,
   "id": "1724eb71",
   "metadata": {},
   "outputs": [
    {
     "data": {
      "text/plain": [
       "<seaborn.axisgrid.JointGrid at 0x7f813046fc10>"
      ]
     },
     "execution_count": 23,
     "metadata": {},
     "output_type": "execute_result"
    },
    {
     "data": {
      "image/png": "[encoded data removed]",
      "text/plain": [
       "<Figure size 432x432 with 3 Axes>"
      ]
     },
     "metadata": {
      "needs_background": "light"
     },
     "output_type": "display_data"
    }
   ],
   "source": [
    "#Jointplot of Runs and Wickets\n",
    "sns.jointplot(x='Runs',y='Wickets',data=df_allrounder)"
   ]
  },
  {
   "cell_type": "code",
   "execution_count": 24,
   "id": "585d9c4d",
   "metadata": {},
   "outputs": [
    {
     "data": {
      "text/html": [
       "<div>\n",
       "<style scoped>\n",
       "    .dataframe tbody tr th:only-of-type {\n",
       "        vertical-align: middle;\n",
       "    }\n",
       "\n",
       "    .dataframe tbody tr th {\n",
       "        vertical-align: top;\n",
       "    }\n",
       "\n",
       "    .dataframe thead th {\n",
       "        text-align: right;\n",
       "    }\n",
       "</style>\n",
       "<table border=\"1\" class=\"dataframe\">\n",
       "  <thead>\n",
       "    <tr style=\"text-align: right;\">\n",
       "      <th></th>\n",
       "      <th>Player</th>\n",
       "      <th>Runs</th>\n",
       "      <th>Balls Faced</th>\n",
       "      <th>4s</th>\n",
       "      <th>6s</th>\n",
       "      <th>Runs Conceded</th>\n",
       "      <th>Wickets</th>\n",
       "      <th>Balls Bowled</th>\n",
       "    </tr>\n",
       "  </thead>\n",
       "  <tbody>\n",
       "    <tr>\n",
       "      <th>67</th>\n",
       "      <td>Nitish Rana</td>\n",
       "      <td>413</td>\n",
       "      <td>293</td>\n",
       "      <td>39</td>\n",
       "      <td>20</td>\n",
       "      <td>75</td>\n",
       "      <td>3</td>\n",
       "      <td>53</td>\n",
       "    </tr>\n",
       "  </tbody>\n",
       "</table>\n",
       "</div>"
      ],
      "text/plain": [
       "         Player  Runs  Balls Faced  4s  6s  Runs Conceded  Wickets  \\\n",
       "67  Nitish Rana   413          293  39  20             75        3   \n",
       "\n",
       "    Balls Bowled  \n",
       "67            53  "
      ]
     },
     "execution_count": 24,
     "metadata": {},
     "output_type": "execute_result"
    }
   ],
   "source": [
    "#Players with more than 400 runs in the allrounder data frame \n",
    "df_allrounder[df_allrounder['Runs'] > 400]"
   ]
  },
  {
   "cell_type": "code",
   "execution_count": 25,
   "id": "73b95fb3",
   "metadata": {},
   "outputs": [
    {
     "data": {
      "text/html": [
       "<div>\n",
       "<style scoped>\n",
       "    .dataframe tbody tr th:only-of-type {\n",
       "        vertical-align: middle;\n",
       "    }\n",
       "\n",
       "    .dataframe tbody tr th {\n",
       "        vertical-align: top;\n",
       "    }\n",
       "\n",
       "    .dataframe thead th {\n",
       "        text-align: right;\n",
       "    }\n",
       "</style>\n",
       "<table border=\"1\" class=\"dataframe\">\n",
       "  <thead>\n",
       "    <tr style=\"text-align: right;\">\n",
       "      <th></th>\n",
       "      <th>Player</th>\n",
       "      <th>Runs</th>\n",
       "      <th>Balls Faced</th>\n",
       "      <th>4s</th>\n",
       "      <th>6s</th>\n",
       "      <th>Runs Conceded</th>\n",
       "      <th>Wickets</th>\n",
       "      <th>Balls Bowled</th>\n",
       "    </tr>\n",
       "  </thead>\n",
       "  <tbody>\n",
       "    <tr>\n",
       "      <th>59</th>\n",
       "      <td>Mohammed Shami</td>\n",
       "      <td>0</td>\n",
       "      <td>1</td>\n",
       "      <td>0</td>\n",
       "      <td>0</td>\n",
       "      <td>433</td>\n",
       "      <td>24</td>\n",
       "      <td>330</td>\n",
       "    </tr>\n",
       "    <tr>\n",
       "      <th>69</th>\n",
       "      <td>Piyush Chawla</td>\n",
       "      <td>25</td>\n",
       "      <td>20</td>\n",
       "      <td>1</td>\n",
       "      <td>1</td>\n",
       "      <td>422</td>\n",
       "      <td>20</td>\n",
       "      <td>324</td>\n",
       "    </tr>\n",
       "    <tr>\n",
       "      <th>73</th>\n",
       "      <td>Rashid Khan</td>\n",
       "      <td>95</td>\n",
       "      <td>40</td>\n",
       "      <td>4</td>\n",
       "      <td>11</td>\n",
       "      <td>430</td>\n",
       "      <td>25</td>\n",
       "      <td>336</td>\n",
       "    </tr>\n",
       "    <tr>\n",
       "      <th>90</th>\n",
       "      <td>Tushar Deshpande</td>\n",
       "      <td>0</td>\n",
       "      <td>1</td>\n",
       "      <td>0</td>\n",
       "      <td>0</td>\n",
       "      <td>465</td>\n",
       "      <td>20</td>\n",
       "      <td>293</td>\n",
       "    </tr>\n",
       "    <tr>\n",
       "      <th>94</th>\n",
       "      <td>Varun Chakaravarthy</td>\n",
       "      <td>1</td>\n",
       "      <td>9</td>\n",
       "      <td>0</td>\n",
       "      <td>0</td>\n",
       "      <td>429</td>\n",
       "      <td>20</td>\n",
       "      <td>316</td>\n",
       "    </tr>\n",
       "  </tbody>\n",
       "</table>\n",
       "</div>"
      ],
      "text/plain": [
       "                 Player  Runs  Balls Faced  4s  6s  Runs Conceded  Wickets  \\\n",
       "59       Mohammed Shami     0            1   0   0            433       24   \n",
       "69        Piyush Chawla    25           20   1   1            422       20   \n",
       "73          Rashid Khan    95           40   4  11            430       25   \n",
       "90     Tushar Deshpande     0            1   0   0            465       20   \n",
       "94  Varun Chakaravarthy     1            9   0   0            429       20   \n",
       "\n",
       "    Balls Bowled  \n",
       "59           330  \n",
       "69           324  \n",
       "73           336  \n",
       "90           293  \n",
       "94           316  "
      ]
     },
     "execution_count": 25,
     "metadata": {},
     "output_type": "execute_result"
    }
   ],
   "source": [
    "#Players with more than 20 wickets in the allrounder dataframe\n",
    "df_allrounder[df_allrounder['Wickets'] >= 20]"
   ]
  },
  {
   "cell_type": "code",
   "execution_count": 26,
   "id": "a79f1e8c",
   "metadata": {},
   "outputs": [
    {
     "data": {
      "text/html": [
       "<div>\n",
       "<style scoped>\n",
       "    .dataframe tbody tr th:only-of-type {\n",
       "        vertical-align: middle;\n",
       "    }\n",
       "\n",
       "    .dataframe tbody tr th {\n",
       "        vertical-align: top;\n",
       "    }\n",
       "\n",
       "    .dataframe thead th {\n",
       "        text-align: right;\n",
       "    }\n",
       "</style>\n",
       "<table border=\"1\" class=\"dataframe\">\n",
       "  <thead>\n",
       "    <tr style=\"text-align: right;\">\n",
       "      <th></th>\n",
       "      <th>Player</th>\n",
       "      <th>Runs</th>\n",
       "      <th>Balls Faced</th>\n",
       "      <th>4s</th>\n",
       "      <th>6s</th>\n",
       "      <th>Runs Conceded</th>\n",
       "      <th>Wickets</th>\n",
       "      <th>Balls Bowled</th>\n",
       "    </tr>\n",
       "  </thead>\n",
       "  <tbody>\n",
       "    <tr>\n",
       "      <th>0</th>\n",
       "      <td>Abhishek Sharma</td>\n",
       "      <td>225</td>\n",
       "      <td>157</td>\n",
       "      <td>28</td>\n",
       "      <td>6</td>\n",
       "      <td>124</td>\n",
       "      <td>2</td>\n",
       "      <td>72</td>\n",
       "    </tr>\n",
       "    <tr>\n",
       "      <th>3</th>\n",
       "      <td>Aiden Markram</td>\n",
       "      <td>248</td>\n",
       "      <td>197</td>\n",
       "      <td>18</td>\n",
       "      <td>8</td>\n",
       "      <td>70</td>\n",
       "      <td>1</td>\n",
       "      <td>49</td>\n",
       "    </tr>\n",
       "    <tr>\n",
       "      <th>8</th>\n",
       "      <td>Andre Russell</td>\n",
       "      <td>227</td>\n",
       "      <td>156</td>\n",
       "      <td>13</td>\n",
       "      <td>18</td>\n",
       "      <td>172</td>\n",
       "      <td>7</td>\n",
       "      <td>91</td>\n",
       "    </tr>\n",
       "    <tr>\n",
       "      <th>13</th>\n",
       "      <td>Arshdeep Singh</td>\n",
       "      <td>2</td>\n",
       "      <td>2</td>\n",
       "      <td>0</td>\n",
       "      <td>0</td>\n",
       "      <td>493</td>\n",
       "      <td>17</td>\n",
       "      <td>305</td>\n",
       "    </tr>\n",
       "    <tr>\n",
       "      <th>15</th>\n",
       "      <td>Axar Patel</td>\n",
       "      <td>283</td>\n",
       "      <td>203</td>\n",
       "      <td>21</td>\n",
       "      <td>12</td>\n",
       "      <td>338</td>\n",
       "      <td>11</td>\n",
       "      <td>282</td>\n",
       "    </tr>\n",
       "  </tbody>\n",
       "</table>\n",
       "</div>"
      ],
      "text/plain": [
       "             Player  Runs  Balls Faced  4s  6s  Runs Conceded  Wickets  \\\n",
       "0   Abhishek Sharma   225          157  28   6            124        2   \n",
       "3     Aiden Markram   248          197  18   8             70        1   \n",
       "8     Andre Russell   227          156  13  18            172        7   \n",
       "13   Arshdeep Singh     2            2   0   0            493       17   \n",
       "15       Axar Patel   283          203  21  12            338       11   \n",
       "\n",
       "    Balls Bowled  \n",
       "0             72  \n",
       "3             49  \n",
       "8             91  \n",
       "13           305  \n",
       "15           282  "
      ]
     },
     "execution_count": 26,
     "metadata": {},
     "output_type": "execute_result"
    }
   ],
   "source": [
    "#Players with more than 200 runs or more than 10 wickets in the allrounder dataframe\n",
    "df_allrounder[(df_allrounder['Runs'] > 200) | (df_allrounder['Wickets'] > 10)].head()"
   ]
  },
  {
   "cell_type": "code",
   "execution_count": 27,
   "id": "e8685d03",
   "metadata": {},
   "outputs": [
    {
     "data": {
      "text/plain": [
       "74"
      ]
     },
     "execution_count": 27,
     "metadata": {},
     "output_type": "execute_result"
    }
   ],
   "source": [
    "#Number of players in the allrounder dataframe with more than 50 runs or more than 3 wickets \n",
    "len(df_allrounder[(df_allrounder['Runs'] > 50) | (df_allrounder['Wickets'] > 3)])"
   ]
  },
  {
   "cell_type": "code",
   "execution_count": 28,
   "id": "819f006f",
   "metadata": {},
   "outputs": [
    {
     "data": {
      "text/plain": [
       "14"
      ]
     },
     "execution_count": 28,
     "metadata": {},
     "output_type": "execute_result"
    }
   ],
   "source": [
    "#Number of players in the allrounder dataframe with more than 50 runs and more than 3 wickets \n",
    "len(df_allrounder[(df_allrounder['Runs'] > 50) & (df_allrounder['Wickets'] > 3)])"
   ]
  },
  {
   "cell_type": "markdown",
   "id": "9814cefd",
   "metadata": {},
   "source": [
    "Now we try to cluster the players in this dataset into 2 clusters. For this I use sklearn's KMeans clustering algorithm."
   ]
  },
  {
   "cell_type": "code",
   "execution_count": 29,
   "id": "b1f56ecd",
   "metadata": {},
   "outputs": [],
   "source": [
    "from sklearn.cluster import KMeans"
   ]
  },
  {
   "cell_type": "code",
   "execution_count": 30,
   "id": "aea5c3a0",
   "metadata": {},
   "outputs": [],
   "source": [
    "kmeans = KMeans(n_clusters=2)"
   ]
  },
  {
   "cell_type": "markdown",
   "id": "0649176f",
   "metadata": {},
   "source": [
    "At the moment I'm only interested in wickets and runs. Here I try the clustering algorithm without any scaling of the variables."
   ]
  },
  {
   "cell_type": "code",
   "execution_count": 31,
   "id": "63851399",
   "metadata": {},
   "outputs": [
    {
     "data": {
      "text/plain": [
       "KMeans(n_clusters=2)"
      ]
     },
     "execution_count": 31,
     "metadata": {},
     "output_type": "execute_result"
    }
   ],
   "source": [
    "#Fitting the model and dropping all the columns which are not Wickets or Runs \n",
    "kmeans.fit(df_allrounder.drop(['Player','4s','6s','Balls Faced','Balls Bowled','Runs Conceded'],axis=1))"
   ]
  },
  {
   "cell_type": "code",
   "execution_count": 32,
   "id": "484e2d8d",
   "metadata": {},
   "outputs": [
    {
     "data": {
      "text/plain": [
       "array([[ 28.        ,   7.11627907],\n",
       "       [296.06666667,   4.06666667]])"
      ]
     },
     "execution_count": 32,
     "metadata": {},
     "output_type": "execute_result"
    }
   ],
   "source": [
    "#The centre of the clusters\n",
    "kmeans.cluster_centers_"
   ]
  },
  {
   "cell_type": "code",
   "execution_count": 33,
   "id": "6a155e41",
   "metadata": {},
   "outputs": [
    {
     "data": {
      "text/plain": [
       "array([1, 0, 0, 1, 0, 0, 0, 0, 1, 0, 0, 0, 0, 0, 0, 1, 1, 0, 0, 1, 0, 0,\n",
       "       0, 0, 0, 0, 1, 0, 1, 0, 0, 0, 0, 0, 0, 0, 0, 0, 0, 0, 0, 0, 0, 0,\n",
       "       1, 0, 1, 0, 1, 0, 0, 1, 0, 0, 0, 0, 0, 0, 0, 0, 0, 0, 0, 0, 0, 0,\n",
       "       0, 1, 0, 0, 0, 0, 0, 0, 0, 0, 0, 0, 0, 0, 1, 0, 0, 0, 0, 0, 0, 1,\n",
       "       0, 0, 0, 0, 0, 0, 0, 0, 0, 0, 0, 0, 0], dtype=int32)"
      ]
     },
     "execution_count": 33,
     "metadata": {},
     "output_type": "execute_result"
    }
   ],
   "source": [
    "#The labels for each group\n",
    "kmeans.labels_"
   ]
  },
  {
   "cell_type": "code",
   "execution_count": 34,
   "id": "9a76bd00",
   "metadata": {},
   "outputs": [],
   "source": [
    "#Data frame of the above\n",
    "df_cluster = pd.DataFrame(kmeans.labels_)"
   ]
  },
  {
   "cell_type": "code",
   "execution_count": 35,
   "id": "69b35b01",
   "metadata": {},
   "outputs": [],
   "source": [
    "#Combining the labels with inner joined data frame above\n",
    "df = pd.concat([df_allrounder,df_cluster],axis=1)"
   ]
  },
  {
   "cell_type": "code",
   "execution_count": 36,
   "id": "5f829ba9",
   "metadata": {},
   "outputs": [
    {
     "data": {
      "text/html": [
       "<div>\n",
       "<style scoped>\n",
       "    .dataframe tbody tr th:only-of-type {\n",
       "        vertical-align: middle;\n",
       "    }\n",
       "\n",
       "    .dataframe tbody tr th {\n",
       "        vertical-align: top;\n",
       "    }\n",
       "\n",
       "    .dataframe thead th {\n",
       "        text-align: right;\n",
       "    }\n",
       "</style>\n",
       "<table border=\"1\" class=\"dataframe\">\n",
       "  <thead>\n",
       "    <tr style=\"text-align: right;\">\n",
       "      <th></th>\n",
       "      <th>Player</th>\n",
       "      <th>Runs</th>\n",
       "      <th>Balls Faced</th>\n",
       "      <th>4s</th>\n",
       "      <th>6s</th>\n",
       "      <th>Runs Conceded</th>\n",
       "      <th>Wickets</th>\n",
       "      <th>Balls Bowled</th>\n",
       "      <th>0</th>\n",
       "    </tr>\n",
       "  </thead>\n",
       "  <tbody>\n",
       "    <tr>\n",
       "      <th>0</th>\n",
       "      <td>Abhishek Sharma</td>\n",
       "      <td>225</td>\n",
       "      <td>157</td>\n",
       "      <td>28</td>\n",
       "      <td>6</td>\n",
       "      <td>124</td>\n",
       "      <td>2</td>\n",
       "      <td>72</td>\n",
       "      <td>1</td>\n",
       "    </tr>\n",
       "    <tr>\n",
       "      <th>1</th>\n",
       "      <td>Adam Zampa</td>\n",
       "      <td>10</td>\n",
       "      <td>16</td>\n",
       "      <td>0</td>\n",
       "      <td>0</td>\n",
       "      <td>188</td>\n",
       "      <td>8</td>\n",
       "      <td>132</td>\n",
       "      <td>0</td>\n",
       "    </tr>\n",
       "    <tr>\n",
       "      <th>2</th>\n",
       "      <td>Adil Rashid</td>\n",
       "      <td>22</td>\n",
       "      <td>16</td>\n",
       "      <td>2</td>\n",
       "      <td>1</td>\n",
       "      <td>56</td>\n",
       "      <td>2</td>\n",
       "      <td>42</td>\n",
       "      <td>0</td>\n",
       "    </tr>\n",
       "    <tr>\n",
       "      <th>3</th>\n",
       "      <td>Aiden Markram</td>\n",
       "      <td>248</td>\n",
       "      <td>197</td>\n",
       "      <td>18</td>\n",
       "      <td>8</td>\n",
       "      <td>70</td>\n",
       "      <td>1</td>\n",
       "      <td>49</td>\n",
       "      <td>1</td>\n",
       "    </tr>\n",
       "    <tr>\n",
       "      <th>4</th>\n",
       "      <td>Akash Deep</td>\n",
       "      <td>17</td>\n",
       "      <td>8</td>\n",
       "      <td>2</td>\n",
       "      <td>1</td>\n",
       "      <td>59</td>\n",
       "      <td>1</td>\n",
       "      <td>30</td>\n",
       "      <td>0</td>\n",
       "    </tr>\n",
       "  </tbody>\n",
       "</table>\n",
       "</div>"
      ],
      "text/plain": [
       "            Player  Runs  Balls Faced  4s  6s  Runs Conceded  Wickets  \\\n",
       "0  Abhishek Sharma   225          157  28   6            124        2   \n",
       "1       Adam Zampa    10           16   0   0            188        8   \n",
       "2      Adil Rashid    22           16   2   1             56        2   \n",
       "3    Aiden Markram   248          197  18   8             70        1   \n",
       "4       Akash Deep    17            8   2   1             59        1   \n",
       "\n",
       "   Balls Bowled  0  \n",
       "0            72  1  \n",
       "1           132  0  \n",
       "2            42  0  \n",
       "3            49  1  \n",
       "4            30  0  "
      ]
     },
     "execution_count": 36,
     "metadata": {},
     "output_type": "execute_result"
    }
   ],
   "source": [
    "#Head of the dataframe \n",
    "df.head()"
   ]
  },
  {
   "cell_type": "code",
   "execution_count": 37,
   "id": "254c6048",
   "metadata": {},
   "outputs": [
    {
     "data": {
      "text/plain": [
       "<seaborn.axisgrid.JointGrid at 0x7f81303f1cd0>"
      ]
     },
     "execution_count": 37,
     "metadata": {},
     "output_type": "execute_result"
    },
    {
     "data": {
      "image/png": "[encoded data removed]",
      "text/plain": [
       "<Figure size 432x432 with 3 Axes>"
      ]
     },
     "metadata": {
      "needs_background": "light"
     },
     "output_type": "display_data"
    }
   ],
   "source": [
    "#Here is how the clustering algorithm did \n",
    "sns.jointplot(x='Runs',y='Wickets',data=df,hue=0)"
   ]
  },
  {
   "cell_type": "markdown",
   "id": "a4d25696",
   "metadata": {},
   "source": [
    "Using the k means clustering algorithm with k = 2 seems to split the players into those who scored more than 200 runs and those who scored less than 200 runs. To try to split the players into batting and bowling alrounders let us look at k means clustering with k = 3. "
   ]
  },
  {
   "cell_type": "code",
   "execution_count": 38,
   "id": "073e3769",
   "metadata": {},
   "outputs": [],
   "source": [
    "#KMeas with k = 3\n",
    "kmeans = KMeans(n_clusters=3)"
   ]
  },
  {
   "cell_type": "code",
   "execution_count": 39,
   "id": "8faf7d55",
   "metadata": {},
   "outputs": [
    {
     "data": {
      "text/plain": [
       "KMeans(n_clusters=3)"
      ]
     },
     "execution_count": 39,
     "metadata": {},
     "output_type": "execute_result"
    }
   ],
   "source": [
    "#Fitting\n",
    "kmeans.fit(df_allrounder.drop(['Player','4s','6s','Balls Faced','Balls Bowled','Runs Conceded'],axis=1))"
   ]
  },
  {
   "cell_type": "code",
   "execution_count": 40,
   "id": "5629fc03",
   "metadata": {},
   "outputs": [
    {
     "data": {
      "text/plain": [
       "array([[ 12.58571429,   7.28571429],\n",
       "       [296.06666667,   4.06666667],\n",
       "       [ 95.4375    ,   6.375     ]])"
      ]
     },
     "execution_count": 40,
     "metadata": {},
     "output_type": "execute_result"
    }
   ],
   "source": [
    "#Cluster centers\n",
    "kmeans.cluster_centers_"
   ]
  },
  {
   "cell_type": "code",
   "execution_count": 41,
   "id": "223ecac5",
   "metadata": {},
   "outputs": [
    {
     "data": {
      "text/plain": [
       "array([1, 0, 0, 1, 0, 0, 0, 0, 1, 0, 0, 0, 0, 0, 0, 1, 1, 0, 0, 1, 0, 0,\n",
       "       0, 0, 2, 0, 1, 0, 1, 0, 0, 0, 0, 0, 0, 0, 0, 0, 0, 0, 0, 0, 0, 2,\n",
       "       1, 0, 1, 2, 1, 2, 0, 1, 0, 2, 0, 2, 2, 0, 2, 0, 0, 0, 0, 0, 0, 0,\n",
       "       0, 1, 0, 0, 0, 0, 2, 2, 0, 2, 2, 0, 0, 0, 1, 0, 0, 2, 2, 0, 0, 1,\n",
       "       0, 0, 0, 0, 0, 0, 0, 0, 2, 0, 2, 0, 0], dtype=int32)"
      ]
     },
     "execution_count": 41,
     "metadata": {},
     "output_type": "execute_result"
    }
   ],
   "source": [
    "#The labels of the clustering\n",
    "kmeans.labels_"
   ]
  },
  {
   "cell_type": "code",
   "execution_count": 42,
   "id": "e8d2e56e",
   "metadata": {},
   "outputs": [],
   "source": [
    "#Data frame of the labels\n",
    "df_cluster = pd.DataFrame(kmeans.labels_)"
   ]
  },
  {
   "cell_type": "code",
   "execution_count": 43,
   "id": "e676c0b9",
   "metadata": {},
   "outputs": [],
   "source": [
    "#Combining this with the original inner join data frame\n",
    "df = pd.concat([df_allrounder,df_cluster],axis=1)"
   ]
  },
  {
   "cell_type": "code",
   "execution_count": 44,
   "id": "215593fb",
   "metadata": {},
   "outputs": [
    {
     "data": {
      "text/plain": [
       "<seaborn.axisgrid.JointGrid at 0x7f813119aaf0>"
      ]
     },
     "execution_count": 44,
     "metadata": {},
     "output_type": "execute_result"
    },
    {
     "data": {
      "image/png": "[encoded data removed]",
      "text/plain": [
       "<Figure size 432x432 with 3 Axes>"
      ]
     },
     "metadata": {
      "needs_background": "light"
     },
     "output_type": "display_data"
    }
   ],
   "source": [
    "#Clustering visualization \n",
    "sns.jointplot(x='Runs',y='Wickets',data=df,hue=0)"
   ]
  },
  {
   "cell_type": "markdown",
   "id": "77f3a8bb",
   "metadata": {},
   "source": [
    "This time it seems to cluster the players in to three groups again according to runs scored. With 0-100 being one group, 100-200 another and 200+ the other group. To try to fix this problem this time we will scale the data using a MinMaxScalar."
   ]
  },
  {
   "cell_type": "code",
   "execution_count": 45,
   "id": "f84bc1e3",
   "metadata": {},
   "outputs": [],
   "source": [
    "#Importing the MinMaxScalar\n",
    "from sklearn.preprocessing import MinMaxScaler"
   ]
  },
  {
   "cell_type": "code",
   "execution_count": 46,
   "id": "18980e72",
   "metadata": {},
   "outputs": [],
   "source": [
    "#Instance of the scaler\n",
    "scaler = MinMaxScaler()"
   ]
  },
  {
   "cell_type": "code",
   "execution_count": 47,
   "id": "dacf2290",
   "metadata": {},
   "outputs": [],
   "source": [
    "#Just making a df with runs and wickets only from the inner joined data frame\n",
    "df_runs_wickets = df_allrounder.drop(['Player','4s','6s','Balls Faced','Balls Bowled','Runs Conceded'],axis=1)"
   ]
  },
  {
   "cell_type": "code",
   "execution_count": 48,
   "id": "080a0668",
   "metadata": {},
   "outputs": [],
   "source": [
    "#Scaling that very data frame\n",
    "df_runs_wickets = scaler.fit_transform(df_runs_wickets)"
   ]
  },
  {
   "cell_type": "code",
   "execution_count": 49,
   "id": "3d799818",
   "metadata": {},
   "outputs": [],
   "source": [
    "#KMeans with k = 3 again\n",
    "kmeans = KMeans(n_clusters=3)"
   ]
  },
  {
   "cell_type": "code",
   "execution_count": 50,
   "id": "f85090af",
   "metadata": {},
   "outputs": [
    {
     "data": {
      "text/plain": [
       "KMeans(n_clusters=3)"
      ]
     },
     "execution_count": 50,
     "metadata": {},
     "output_type": "execute_result"
    }
   ],
   "source": [
    "#Fitting\n",
    "kmeans.fit(df_runs_wickets)"
   ]
  },
  {
   "cell_type": "code",
   "execution_count": 51,
   "id": "e265a9e4",
   "metadata": {},
   "outputs": [
    {
     "data": {
      "text/plain": [
       "array([[0.06706565, 0.11849057],\n",
       "       [0.71686844, 0.16266667],\n",
       "       [0.06897058, 0.55151515]])"
      ]
     },
     "execution_count": 51,
     "metadata": {},
     "output_type": "execute_result"
    }
   ],
   "source": [
    "#Cluster centres\n",
    "kmeans.cluster_centers_"
   ]
  },
  {
   "cell_type": "code",
   "execution_count": 52,
   "id": "72950909",
   "metadata": {},
   "outputs": [
    {
     "data": {
      "text/plain": [
       "array([1, 0, 0, 1, 0, 0, 0, 0, 1, 2, 0, 0, 0, 2, 0, 1, 1, 0, 2, 1, 0, 0,\n",
       "       0, 2, 0, 0, 1, 0, 1, 2, 2, 0, 0, 2, 2, 0, 0, 0, 0, 0, 0, 0, 2, 0,\n",
       "       1, 2, 1, 0, 1, 0, 2, 1, 2, 0, 2, 0, 2, 0, 2, 2, 2, 0, 2, 0, 0, 2,\n",
       "       0, 1, 2, 2, 0, 0, 0, 2, 2, 2, 2, 0, 0, 0, 1, 2, 0, 0, 0, 2, 0, 1,\n",
       "       2, 0, 2, 0, 0, 0, 2, 2, 0, 2, 0, 2, 0], dtype=int32)"
      ]
     },
     "execution_count": 52,
     "metadata": {},
     "output_type": "execute_result"
    }
   ],
   "source": [
    "#Labels from the clustering\n",
    "kmeans.labels_"
   ]
  },
  {
   "cell_type": "code",
   "execution_count": 53,
   "id": "83b6065c",
   "metadata": {},
   "outputs": [],
   "source": [
    "#Making a data frame of the labels\n",
    "df_cluster = pd.DataFrame(kmeans.labels_)"
   ]
  },
  {
   "cell_type": "code",
   "execution_count": 54,
   "id": "7aa8c9f1",
   "metadata": {},
   "outputs": [],
   "source": [
    "#Concatinating the inner joined data frame with the labels\n",
    "df = pd.concat([df_allrounder,df_cluster],axis=1)"
   ]
  },
  {
   "cell_type": "code",
   "execution_count": 55,
   "id": "0b9d1001",
   "metadata": {},
   "outputs": [
    {
     "data": {
      "text/html": [
       "<div>\n",
       "<style scoped>\n",
       "    .dataframe tbody tr th:only-of-type {\n",
       "        vertical-align: middle;\n",
       "    }\n",
       "\n",
       "    .dataframe tbody tr th {\n",
       "        vertical-align: top;\n",
       "    }\n",
       "\n",
       "    .dataframe thead th {\n",
       "        text-align: right;\n",
       "    }\n",
       "</style>\n",
       "<table border=\"1\" class=\"dataframe\">\n",
       "  <thead>\n",
       "    <tr style=\"text-align: right;\">\n",
       "      <th></th>\n",
       "      <th>Player</th>\n",
       "      <th>Runs</th>\n",
       "      <th>Balls Faced</th>\n",
       "      <th>4s</th>\n",
       "      <th>6s</th>\n",
       "      <th>Runs Conceded</th>\n",
       "      <th>Wickets</th>\n",
       "      <th>Balls Bowled</th>\n",
       "      <th>0</th>\n",
       "    </tr>\n",
       "  </thead>\n",
       "  <tbody>\n",
       "    <tr>\n",
       "      <th>0</th>\n",
       "      <td>Abhishek Sharma</td>\n",
       "      <td>225</td>\n",
       "      <td>157</td>\n",
       "      <td>28</td>\n",
       "      <td>6</td>\n",
       "      <td>124</td>\n",
       "      <td>2</td>\n",
       "      <td>72</td>\n",
       "      <td>1</td>\n",
       "    </tr>\n",
       "    <tr>\n",
       "      <th>1</th>\n",
       "      <td>Adam Zampa</td>\n",
       "      <td>10</td>\n",
       "      <td>16</td>\n",
       "      <td>0</td>\n",
       "      <td>0</td>\n",
       "      <td>188</td>\n",
       "      <td>8</td>\n",
       "      <td>132</td>\n",
       "      <td>0</td>\n",
       "    </tr>\n",
       "    <tr>\n",
       "      <th>2</th>\n",
       "      <td>Adil Rashid</td>\n",
       "      <td>22</td>\n",
       "      <td>16</td>\n",
       "      <td>2</td>\n",
       "      <td>1</td>\n",
       "      <td>56</td>\n",
       "      <td>2</td>\n",
       "      <td>42</td>\n",
       "      <td>0</td>\n",
       "    </tr>\n",
       "    <tr>\n",
       "      <th>3</th>\n",
       "      <td>Aiden Markram</td>\n",
       "      <td>248</td>\n",
       "      <td>197</td>\n",
       "      <td>18</td>\n",
       "      <td>8</td>\n",
       "      <td>70</td>\n",
       "      <td>1</td>\n",
       "      <td>49</td>\n",
       "      <td>1</td>\n",
       "    </tr>\n",
       "    <tr>\n",
       "      <th>4</th>\n",
       "      <td>Akash Deep</td>\n",
       "      <td>17</td>\n",
       "      <td>8</td>\n",
       "      <td>2</td>\n",
       "      <td>1</td>\n",
       "      <td>59</td>\n",
       "      <td>1</td>\n",
       "      <td>30</td>\n",
       "      <td>0</td>\n",
       "    </tr>\n",
       "  </tbody>\n",
       "</table>\n",
       "</div>"
      ],
      "text/plain": [
       "            Player  Runs  Balls Faced  4s  6s  Runs Conceded  Wickets  \\\n",
       "0  Abhishek Sharma   225          157  28   6            124        2   \n",
       "1       Adam Zampa    10           16   0   0            188        8   \n",
       "2      Adil Rashid    22           16   2   1             56        2   \n",
       "3    Aiden Markram   248          197  18   8             70        1   \n",
       "4       Akash Deep    17            8   2   1             59        1   \n",
       "\n",
       "   Balls Bowled  0  \n",
       "0            72  1  \n",
       "1           132  0  \n",
       "2            42  0  \n",
       "3            49  1  \n",
       "4            30  0  "
      ]
     },
     "execution_count": 55,
     "metadata": {},
     "output_type": "execute_result"
    }
   ],
   "source": [
    "#Head of the data frame\n",
    "df.head()"
   ]
  },
  {
   "cell_type": "code",
   "execution_count": 56,
   "id": "e75895bc",
   "metadata": {},
   "outputs": [
    {
     "data": {
      "text/plain": [
       "<seaborn.axisgrid.JointGrid at 0x7f813119ae80>"
      ]
     },
     "execution_count": 56,
     "metadata": {},
     "output_type": "execute_result"
    },
    {
     "data": {
      "image/png": "[encoded data removed]",
      "text/plain": [
       "<Figure size 432x432 with 3 Axes>"
      ]
     },
     "metadata": {
      "needs_background": "light"
     },
     "output_type": "display_data"
    }
   ],
   "source": [
    "#The results of the clustering\n",
    "sns.jointplot(x='Runs',y='Wickets',data=df,hue=0)"
   ]
  },
  {
   "cell_type": "markdown",
   "id": "1f157168",
   "metadata": {},
   "source": [
    "This time the clustering seems to now split the group more according to wickets and runs and not just runs.  Roughly one group seems to be for more than 200 runs, a second group is for more than 8 wickets and another group is for those with 8 wickets for less and less than 200 runs. From here we can workout which players did well with the bat and which players did well with the ball in particular. "
   ]
  },
  {
   "cell_type": "markdown",
   "id": "9aed7505",
   "metadata": {},
   "source": [
    "## Outer Join datasets"
   ]
  },
  {
   "cell_type": "markdown",
   "id": "723786b5",
   "metadata": {},
   "source": [
    "Now I look at an outer join on the datasets and make a new data frame from this outer join. Note when doing an outer join here I have to fill the null values with a 0."
   ]
  },
  {
   "cell_type": "code",
   "execution_count": 57,
   "id": "d8eeebe3",
   "metadata": {},
   "outputs": [],
   "source": [
    "#Outer joined dataframe\n",
    "df = pd.concat([df_bat_gbb,df_bow_gbb],axis=1,join='outer')"
   ]
  },
  {
   "cell_type": "code",
   "execution_count": 58,
   "id": "0435206f",
   "metadata": {},
   "outputs": [
    {
     "data": {
      "text/html": [
       "<div>\n",
       "<style scoped>\n",
       "    .dataframe tbody tr th:only-of-type {\n",
       "        vertical-align: middle;\n",
       "    }\n",
       "\n",
       "    .dataframe tbody tr th {\n",
       "        vertical-align: top;\n",
       "    }\n",
       "\n",
       "    .dataframe thead th {\n",
       "        text-align: right;\n",
       "    }\n",
       "</style>\n",
       "<table border=\"1\" class=\"dataframe\">\n",
       "  <thead>\n",
       "    <tr style=\"text-align: right;\">\n",
       "      <th></th>\n",
       "      <th>Player</th>\n",
       "      <th>Runs</th>\n",
       "      <th>Balls Faced</th>\n",
       "      <th>4s</th>\n",
       "      <th>6s</th>\n",
       "      <th>Runs Conceded</th>\n",
       "      <th>Wickets</th>\n",
       "      <th>Balls Bowled</th>\n",
       "    </tr>\n",
       "  </thead>\n",
       "  <tbody>\n",
       "    <tr>\n",
       "      <th>0</th>\n",
       "      <td>Abdul Basith</td>\n",
       "      <td>1.0</td>\n",
       "      <td>1.0</td>\n",
       "      <td>0.0</td>\n",
       "      <td>0.0</td>\n",
       "      <td>0.0</td>\n",
       "      <td>0.0</td>\n",
       "      <td>0.0</td>\n",
       "    </tr>\n",
       "    <tr>\n",
       "      <th>1</th>\n",
       "      <td>Abdul Samad</td>\n",
       "      <td>169.0</td>\n",
       "      <td>128.0</td>\n",
       "      <td>10.0</td>\n",
       "      <td>11.0</td>\n",
       "      <td>0.0</td>\n",
       "      <td>0.0</td>\n",
       "      <td>0.0</td>\n",
       "    </tr>\n",
       "    <tr>\n",
       "      <th>2</th>\n",
       "      <td>Abhinav Manohar</td>\n",
       "      <td>114.0</td>\n",
       "      <td>83.0</td>\n",
       "      <td>6.0</td>\n",
       "      <td>7.0</td>\n",
       "      <td>0.0</td>\n",
       "      <td>0.0</td>\n",
       "      <td>0.0</td>\n",
       "    </tr>\n",
       "    <tr>\n",
       "      <th>3</th>\n",
       "      <td>Abhishek Sharma</td>\n",
       "      <td>225.0</td>\n",
       "      <td>157.0</td>\n",
       "      <td>28.0</td>\n",
       "      <td>6.0</td>\n",
       "      <td>124.0</td>\n",
       "      <td>2.0</td>\n",
       "      <td>72.0</td>\n",
       "    </tr>\n",
       "    <tr>\n",
       "      <th>4</th>\n",
       "      <td>Abishek Porel</td>\n",
       "      <td>33.0</td>\n",
       "      <td>31.0</td>\n",
       "      <td>1.0</td>\n",
       "      <td>0.0</td>\n",
       "      <td>0.0</td>\n",
       "      <td>0.0</td>\n",
       "      <td>0.0</td>\n",
       "    </tr>\n",
       "  </tbody>\n",
       "</table>\n",
       "</div>"
      ],
      "text/plain": [
       "            Player   Runs  Balls Faced    4s    6s  Runs Conceded  Wickets  \\\n",
       "0     Abdul Basith    1.0          1.0   0.0   0.0            0.0      0.0   \n",
       "1      Abdul Samad  169.0        128.0  10.0  11.0            0.0      0.0   \n",
       "2  Abhinav Manohar  114.0         83.0   6.0   7.0            0.0      0.0   \n",
       "3  Abhishek Sharma  225.0        157.0  28.0   6.0          124.0      2.0   \n",
       "4    Abishek Porel   33.0         31.0   1.0   0.0            0.0      0.0   \n",
       "\n",
       "   Balls Bowled  \n",
       "0           0.0  \n",
       "1           0.0  \n",
       "2           0.0  \n",
       "3          72.0  \n",
       "4           0.0  "
      ]
     },
     "execution_count": 58,
     "metadata": {},
     "output_type": "execute_result"
    }
   ],
   "source": [
    "#Filling the null values with 0\n",
    "df.fillna(0,inplace=True)\n",
    "#Reset the index\n",
    "df.reset_index(inplace=True)\n",
    "#Naming the index column Player\n",
    "df.rename(columns={'index':'Player'},inplace=True)\n",
    "#Head of the data frame\n",
    "df.head()"
   ]
  },
  {
   "cell_type": "markdown",
   "id": "7f7333f4",
   "metadata": {},
   "source": [
    "Here I again explore some of the interesting data in this dataset."
   ]
  },
  {
   "cell_type": "code",
   "execution_count": 59,
   "id": "93418465",
   "metadata": {},
   "outputs": [
    {
     "data": {
      "text/plain": [
       "<seaborn.axisgrid.JointGrid at 0x7f81317026a0>"
      ]
     },
     "execution_count": 59,
     "metadata": {},
     "output_type": "execute_result"
    },
    {
     "data": {
      "image/png": "[encoded data removed]",
      "text/plain": [
       "<Figure size 432x432 with 3 Axes>"
      ]
     },
     "metadata": {
      "needs_background": "light"
     },
     "output_type": "display_data"
    }
   ],
   "source": [
    "sns.jointplot(x='Runs',y='Wickets',data=df)"
   ]
  },
  {
   "cell_type": "markdown",
   "id": "28a6d61f",
   "metadata": {},
   "source": [
    "Now I do the same as before, I will scale the data and using the k means clustering algorithm to cluster the players into different catagories."
   ]
  },
  {
   "cell_type": "code",
   "execution_count": 60,
   "id": "8a96b7c8",
   "metadata": {},
   "outputs": [],
   "source": [
    "#Scaler \n",
    "scaler = MinMaxScaler()"
   ]
  },
  {
   "cell_type": "code",
   "execution_count": 61,
   "id": "6882f26d",
   "metadata": {},
   "outputs": [],
   "source": [
    "#The data frame with only Runs and Wickets\n",
    "df_runs_wickets = df.drop(['Player','4s','6s','Balls Faced','Balls Bowled','Runs Conceded'],axis=1)"
   ]
  },
  {
   "cell_type": "code",
   "execution_count": 62,
   "id": "9a1f6344",
   "metadata": {},
   "outputs": [],
   "source": [
    "#Fitting using the sclaer\n",
    "df_runs_wickets = scaler.fit_transform(df_runs_wickets)"
   ]
  },
  {
   "cell_type": "markdown",
   "id": "70ab8c47",
   "metadata": {},
   "source": [
    "Now I perform the k means clustering algorithm on this dataset with 3 different clusters."
   ]
  },
  {
   "cell_type": "code",
   "execution_count": 63,
   "id": "c2a5b8b2",
   "metadata": {},
   "outputs": [],
   "source": [
    "#Instance of the model\n",
    "kmeans = KMeans(n_clusters=3)"
   ]
  },
  {
   "cell_type": "code",
   "execution_count": 64,
   "id": "bc9813f8",
   "metadata": {},
   "outputs": [
    {
     "data": {
      "text/plain": [
       "KMeans(n_clusters=3)"
      ]
     },
     "execution_count": 64,
     "metadata": {},
     "output_type": "execute_result"
    }
   ],
   "source": [
    "#Fitting the model on Wickets and Runs\n",
    "kmeans.fit(df_runs_wickets)"
   ]
  },
  {
   "cell_type": "code",
   "execution_count": 65,
   "id": "2d841557",
   "metadata": {},
   "outputs": [
    {
     "data": {
      "text/plain": [
       "array([[0.05119552, 0.04581818],\n",
       "       [0.04756469, 0.48074074],\n",
       "       [0.48832763, 0.02583333]])"
      ]
     },
     "execution_count": 65,
     "metadata": {},
     "output_type": "execute_result"
    }
   ],
   "source": [
    "#Centre of the clusters\n",
    "kmeans.cluster_centers_"
   ]
  },
  {
   "cell_type": "code",
   "execution_count": 66,
   "id": "eb4ba0b4",
   "metadata": {},
   "outputs": [
    {
     "data": {
      "text/plain": [
       "array([0, 0, 0, 2, 0, 1, 0, 2, 2, 0, 0, 1, 0, 0, 1, 2, 0, 1, 0, 0, 0, 0,\n",
       "       1, 0, 1, 1, 2, 0, 0, 1, 2, 0, 0, 2, 2, 0, 0, 1, 0, 2, 2, 0, 0, 2,\n",
       "       0, 2, 0, 2, 1, 0, 0, 0, 1, 0, 2, 0, 2, 1, 1, 0, 2, 0, 2, 0, 0, 0,\n",
       "       2, 0, 2, 0, 1, 0, 1, 0, 0, 1, 1, 2, 0, 2, 0, 0, 0, 0, 0, 0, 1, 2,\n",
       "       1, 0, 2, 1, 0, 1, 0, 1, 1, 1, 0, 1, 1, 0, 0, 1, 1, 2, 2, 2, 1, 2,\n",
       "       1, 2, 0, 0, 0, 0, 0, 2, 0, 1, 0, 2, 1, 1, 1, 1, 2, 1, 2, 0, 0, 0,\n",
       "       2, 0, 0, 2, 2, 1, 1, 2, 0, 0, 0, 0, 1, 2, 2, 2, 2, 0, 1, 2, 0, 0,\n",
       "       2, 2, 1, 0, 1, 0, 0, 0, 1, 2, 2, 1, 2, 0, 0, 1, 0, 1, 2, 0, 2, 0,\n",
       "       1, 0, 0, 0, 0, 0, 0, 0, 0, 0, 1, 0, 0, 0, 0, 0, 1, 1, 0, 0, 0, 0,\n",
       "       0, 0, 0, 0, 0, 0, 0, 1, 1, 0, 0, 1, 0, 1], dtype=int32)"
      ]
     },
     "execution_count": 66,
     "metadata": {},
     "output_type": "execute_result"
    }
   ],
   "source": [
    "#The labels \n",
    "kmeans.labels_"
   ]
  },
  {
   "cell_type": "code",
   "execution_count": 67,
   "id": "dfda9c18",
   "metadata": {},
   "outputs": [],
   "source": [
    "#Makeing the labels into a data frame\n",
    "df_cluster2 = pd.DataFrame(kmeans.labels_)"
   ]
  },
  {
   "cell_type": "code",
   "execution_count": 68,
   "id": "2841d109",
   "metadata": {},
   "outputs": [
    {
     "data": {
      "text/html": [
       "<div>\n",
       "<style scoped>\n",
       "    .dataframe tbody tr th:only-of-type {\n",
       "        vertical-align: middle;\n",
       "    }\n",
       "\n",
       "    .dataframe tbody tr th {\n",
       "        vertical-align: top;\n",
       "    }\n",
       "\n",
       "    .dataframe thead th {\n",
       "        text-align: right;\n",
       "    }\n",
       "</style>\n",
       "<table border=\"1\" class=\"dataframe\">\n",
       "  <thead>\n",
       "    <tr style=\"text-align: right;\">\n",
       "      <th></th>\n",
       "      <th>Player</th>\n",
       "      <th>Runs</th>\n",
       "      <th>Balls Faced</th>\n",
       "      <th>4s</th>\n",
       "      <th>6s</th>\n",
       "      <th>Runs Conceded</th>\n",
       "      <th>Wickets</th>\n",
       "      <th>Balls Bowled</th>\n",
       "      <th>0</th>\n",
       "    </tr>\n",
       "  </thead>\n",
       "  <tbody>\n",
       "    <tr>\n",
       "      <th>0</th>\n",
       "      <td>Abdul Basith</td>\n",
       "      <td>1.0</td>\n",
       "      <td>1.0</td>\n",
       "      <td>0.0</td>\n",
       "      <td>0.0</td>\n",
       "      <td>0.0</td>\n",
       "      <td>0.0</td>\n",
       "      <td>0.0</td>\n",
       "      <td>0</td>\n",
       "    </tr>\n",
       "    <tr>\n",
       "      <th>1</th>\n",
       "      <td>Abdul Samad</td>\n",
       "      <td>169.0</td>\n",
       "      <td>128.0</td>\n",
       "      <td>10.0</td>\n",
       "      <td>11.0</td>\n",
       "      <td>0.0</td>\n",
       "      <td>0.0</td>\n",
       "      <td>0.0</td>\n",
       "      <td>0</td>\n",
       "    </tr>\n",
       "    <tr>\n",
       "      <th>2</th>\n",
       "      <td>Abhinav Manohar</td>\n",
       "      <td>114.0</td>\n",
       "      <td>83.0</td>\n",
       "      <td>6.0</td>\n",
       "      <td>7.0</td>\n",
       "      <td>0.0</td>\n",
       "      <td>0.0</td>\n",
       "      <td>0.0</td>\n",
       "      <td>0</td>\n",
       "    </tr>\n",
       "    <tr>\n",
       "      <th>3</th>\n",
       "      <td>Abhishek Sharma</td>\n",
       "      <td>225.0</td>\n",
       "      <td>157.0</td>\n",
       "      <td>28.0</td>\n",
       "      <td>6.0</td>\n",
       "      <td>124.0</td>\n",
       "      <td>2.0</td>\n",
       "      <td>72.0</td>\n",
       "      <td>2</td>\n",
       "    </tr>\n",
       "    <tr>\n",
       "      <th>4</th>\n",
       "      <td>Abishek Porel</td>\n",
       "      <td>33.0</td>\n",
       "      <td>31.0</td>\n",
       "      <td>1.0</td>\n",
       "      <td>0.0</td>\n",
       "      <td>0.0</td>\n",
       "      <td>0.0</td>\n",
       "      <td>0.0</td>\n",
       "      <td>0</td>\n",
       "    </tr>\n",
       "  </tbody>\n",
       "</table>\n",
       "</div>"
      ],
      "text/plain": [
       "            Player   Runs  Balls Faced    4s    6s  Runs Conceded  Wickets  \\\n",
       "0     Abdul Basith    1.0          1.0   0.0   0.0            0.0      0.0   \n",
       "1      Abdul Samad  169.0        128.0  10.0  11.0            0.0      0.0   \n",
       "2  Abhinav Manohar  114.0         83.0   6.0   7.0            0.0      0.0   \n",
       "3  Abhishek Sharma  225.0        157.0  28.0   6.0          124.0      2.0   \n",
       "4    Abishek Porel   33.0         31.0   1.0   0.0            0.0      0.0   \n",
       "\n",
       "   Balls Bowled  0  \n",
       "0           0.0  0  \n",
       "1           0.0  0  \n",
       "2           0.0  0  \n",
       "3          72.0  2  \n",
       "4           0.0  0  "
      ]
     },
     "execution_count": 68,
     "metadata": {},
     "output_type": "execute_result"
    }
   ],
   "source": [
    "#The outer data frame combined with the labels\n",
    "df_con = pd.concat([df,df_cluster2],axis=1)\n",
    "df_con.head()"
   ]
  },
  {
   "cell_type": "code",
   "execution_count": 69,
   "id": "50fd410c",
   "metadata": {},
   "outputs": [
    {
     "data": {
      "text/plain": [
       "<seaborn.axisgrid.JointGrid at 0x7f81317f2100>"
      ]
     },
     "execution_count": 69,
     "metadata": {},
     "output_type": "execute_result"
    },
    {
     "data": {
      "image/png": "[encoded data removed]",
      "text/plain": [
       "<Figure size 432x432 with 3 Axes>"
      ]
     },
     "metadata": {
      "needs_background": "light"
     },
     "output_type": "display_data"
    }
   ],
   "source": [
    "#A visual representation of the 3 clusters\n",
    "sns.jointplot(x='Runs',y='Wickets',data=df_con,hue=0)"
   ]
  },
  {
   "cell_type": "markdown",
   "id": "052854a1",
   "metadata": {},
   "source": [
    "This again gives a clustering of the players according to Runs and Wickets which could be useful to help understand who had a good game with the bat or with the ball."
   ]
  }
 ],
 "metadata": {
  "kernelspec": {
   "display_name": "Python 3",
   "language": "python",
   "name": "python3"
  },
  "language_info": {
   "codemirror_mode": {
    "name": "ipython",
    "version": 3
   },
   "file_extension": ".py",
   "mimetype": "text/x-python",
   "name": "python",
   "nbconvert_exporter": "python",
   "pygments_lexer": "ipython3",
   "version": "3.8.8"
  }
 },
 "nbformat": 4,
 "nbformat_minor": 5
}
